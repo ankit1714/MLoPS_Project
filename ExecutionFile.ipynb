{
 "cells": [
  {
   "cell_type": "code",
   "execution_count": 1,
   "id": "cb2fbdcc-f9c8-45e7-a9ec-acab413f9a51",
   "metadata": {},
   "outputs": [],
   "source": [
    "import pandas as pd\n",
    "import joblib\n",
    "import modeltraining as mt\n",
    "import numpy as np\n",
    "import mlflow\n",
    "from sklearn.metrics import accuracy_score"
   ]
  },
  {
   "cell_type": "code",
   "execution_count": 2,
   "id": "ff0cf5d6-de71-4db9-a616-8c2291151b14",
   "metadata": {},
   "outputs": [],
   "source": [
    "data = pd.read_csv(\"./data/Twitter_Data.csv\")"
   ]
  },
  {
   "cell_type": "code",
   "execution_count": 3,
   "id": "f7565511-6256-49c6-91ff-feb514c36353",
   "metadata": {},
   "outputs": [],
   "source": [
    "from sklearn.ensemble import GradientBoostingClassifier\n",
    "from sklearn.model_selection import GridSearchCV"
   ]
  },
  {
   "cell_type": "raw",
   "id": "363168d2-b03c-469c-9171-5bef1ca652e7",
   "metadata": {},
   "source": [
    "# Number of trees in random forest\n",
    "n_estimators = [int(x) for x in np.linspace(start = 10, stop = 100, num = 4)]\n",
    "# Number of features to consider at every split\n",
    "max_features = ['auto', 'sqrt']\n",
    "# Maximum number of levels in tree\n",
    "max_depth = [int(x) for x in np.linspace(10, 50, num = 5)]\n",
    "params = {'n_estimators': n_estimators,\n",
    "          'max_features': max_features,\n",
    "          'max_depth': max_depth,}\n",
    "grid_search = GridSearchCV(estimator = rfc, param_grid = params,  cv = 3, n_jobs = -1, verbose = 2)"
   ]
  },
  {
   "cell_type": "code",
   "execution_count": null,
   "id": "d21be437-9136-4e6d-b9d5-b979be419136",
   "metadata": {},
   "outputs": [],
   "source": []
  },
  {
   "cell_type": "code",
   "execution_count": 4,
   "id": "f455f743-5c55-4e9a-8e2a-8334643f3d37",
   "metadata": {},
   "outputs": [],
   "source": [
    "EXPERIMENT_NAME = \"mlflow-GBM\"\n",
    "EXPERIMENT_ID = mlflow.create_experiment(EXPERIMENT_NAME)"
   ]
  },
  {
   "cell_type": "code",
   "execution_count": 5,
   "id": "840dfa83-bc42-4407-8821-eb85a8a9df07",
   "metadata": {},
   "outputs": [
    {
     "name": "stderr",
     "output_type": "stream",
     "text": [
      "2024/08/01 20:26:27 WARNING mlflow.models.model: Input example should be provided to infer model signature if the model signature is not provided when logging the model.\n",
      "/opt/anaconda3/envs/BITS/lib/python3.10/site-packages/_distutils_hack/__init__.py:18: UserWarning: Distutils was imported before Setuptools, but importing Setuptools also replaces the `distutils` module in `sys.modules`. This may lead to undesirable behaviors or errors. To avoid these issues, avoid using distutils directly, ensure that setuptools is installed in the traditional way (e.g. not an editable install), and/or make sure that setuptools is always imported before distutils.\n",
      "  warnings.warn(\n",
      "/opt/anaconda3/envs/BITS/lib/python3.10/site-packages/_distutils_hack/__init__.py:33: UserWarning: Setuptools is replacing distutils.\n",
      "  warnings.warn(\"Setuptools is replacing distutils.\")\n",
      "2024/08/01 20:26:28 WARNING mlflow.models.model: Input example should be provided to infer model signature if the model signature is not provided when logging the model.\n",
      "/opt/anaconda3/envs/BITS/lib/python3.10/site-packages/_distutils_hack/__init__.py:18: UserWarning: Distutils was imported before Setuptools, but importing Setuptools also replaces the `distutils` module in `sys.modules`. This may lead to undesirable behaviors or errors. To avoid these issues, avoid using distutils directly, ensure that setuptools is installed in the traditional way (e.g. not an editable install), and/or make sure that setuptools is always imported before distutils.\n",
      "  warnings.warn(\n",
      "/opt/anaconda3/envs/BITS/lib/python3.10/site-packages/_distutils_hack/__init__.py:33: UserWarning: Setuptools is replacing distutils.\n",
      "  warnings.warn(\"Setuptools is replacing distutils.\")\n",
      "2024/08/01 20:26:30 WARNING mlflow.models.model: Input example should be provided to infer model signature if the model signature is not provided when logging the model.\n",
      "/opt/anaconda3/envs/BITS/lib/python3.10/site-packages/_distutils_hack/__init__.py:18: UserWarning: Distutils was imported before Setuptools, but importing Setuptools also replaces the `distutils` module in `sys.modules`. This may lead to undesirable behaviors or errors. To avoid these issues, avoid using distutils directly, ensure that setuptools is installed in the traditional way (e.g. not an editable install), and/or make sure that setuptools is always imported before distutils.\n",
      "  warnings.warn(\n",
      "/opt/anaconda3/envs/BITS/lib/python3.10/site-packages/_distutils_hack/__init__.py:33: UserWarning: Setuptools is replacing distutils.\n",
      "  warnings.warn(\"Setuptools is replacing distutils.\")\n",
      "2024/08/01 20:26:32 WARNING mlflow.models.model: Input example should be provided to infer model signature if the model signature is not provided when logging the model.\n"
     ]
    }
   ],
   "source": [
    "for idx, tree in enumerate([50, 100, 150,200]):\n",
    "    gbm = GradientBoostingClassifier(n_estimators=tree)\n",
    "    vectorize, accuracy = mt.train_model(corpus=data[\"text\"], target=data[\"sentiment\"], model=gbm, model_name=\"GBM\")\n",
    "\n",
    "    # Start MLflow\n",
    "    RUN_NAME = f\"run_{idx}\"\n",
    "    \n",
    "    with mlflow.start_run(experiment_id=EXPERIMENT_ID, run_name=RUN_NAME) as run:\n",
    "        # Retrieve run id\n",
    "        RUN_ID = run.info.run_id\n",
    "\n",
    "        # Track parameters\n",
    "        mlflow.log_param(\"n_estimators\", tree)\n",
    "\n",
    "        # Track metrics\n",
    "        mlflow.log_metric(\"accuracy\", accuracy)\n",
    "\n",
    "        # Track model\n",
    "        mlflow.sklearn.log_model(gbm, \"classifier\")\n",
    "    \n"
   ]
  },
  {
   "cell_type": "code",
   "execution_count": 4,
   "id": "4b164a40-0c1e-4b76-a3e5-d84d8b4e89ba",
   "metadata": {},
   "outputs": [],
   "source": []
  },
  {
   "cell_type": "code",
   "execution_count": null,
   "id": "e0556a47-10a4-42cc-a3b6-8fb5ad27a033",
   "metadata": {},
   "outputs": [],
   "source": []
  },
  {
   "cell_type": "code",
   "execution_count": null,
   "id": "ce458742-19fb-4ace-aaa0-29eee762af56",
   "metadata": {},
   "outputs": [],
   "source": []
  },
  {
   "cell_type": "code",
   "execution_count": null,
   "id": "ecfd4ee7-25dd-458c-aa44-f2e3f8602c56",
   "metadata": {},
   "outputs": [],
   "source": []
  },
  {
   "cell_type": "code",
   "execution_count": null,
   "id": "e12efd04-80a2-4917-b412-d6f6616794cb",
   "metadata": {},
   "outputs": [],
   "source": []
  },
  {
   "cell_type": "code",
   "execution_count": null,
   "id": "c47c1734-76b7-4956-9cb7-9314a0b336b3",
   "metadata": {},
   "outputs": [],
   "source": []
  },
  {
   "cell_type": "code",
   "execution_count": null,
   "id": "cd409aa9-3aeb-4429-89f7-74a8930a0e25",
   "metadata": {},
   "outputs": [],
   "source": []
  },
  {
   "cell_type": "code",
   "execution_count": null,
   "id": "4aeed734-97ca-499b-8214-91183346dec4",
   "metadata": {},
   "outputs": [],
   "source": []
  },
  {
   "cell_type": "code",
   "execution_count": 5,
   "id": "250c6c74-d253-4a71-9ae4-ab1c87601e3f",
   "metadata": {},
   "outputs": [],
   "source": [
    "vectorize = mt.train_model(corpus=data[\"text\"], target=data[\"sentiment\"], model=gbm, model_name=\"GBM\")"
   ]
  },
  {
   "cell_type": "code",
   "execution_count": 7,
   "id": "a0735999-e7db-4868-8dff-b6b71ffc8052",
   "metadata": {},
   "outputs": [],
   "source": [
    "from sklearn.feature_extraction.text import TfidfVectorizer"
   ]
  },
  {
   "cell_type": "code",
   "execution_count": 8,
   "id": "ebb11983-ce8c-4d4c-8e33-c9916d3d127c",
   "metadata": {},
   "outputs": [],
   "source": [
    "loaded_model = joblib.load(\"./saved_models/GBM.sav\")"
   ]
  },
  {
   "cell_type": "code",
   "execution_count": 9,
   "id": "33e5cf0c-e66a-44f5-9a5b-12192949ca20",
   "metadata": {},
   "outputs": [],
   "source": [
    "text = pd.read_csv(\"./data/test_data.csv\")"
   ]
  },
  {
   "cell_type": "code",
   "execution_count": 10,
   "id": "ca462f36-7c46-408e-bddf-dcf05c89aeb8",
   "metadata": {},
   "outputs": [],
   "source": [
    "tf_x_test = vectorize.transform(text[\"text\"])"
   ]
  },
  {
   "cell_type": "code",
   "execution_count": 12,
   "id": "76c3b7c6-1b7b-4906-b108-2215403206b0",
   "metadata": {},
   "outputs": [],
   "source": [
    "y_pred = loaded_model.predict(tf_x_test)"
   ]
  },
  {
   "cell_type": "code",
   "execution_count": 13,
   "id": "8ee86dcc-58ac-42d8-8c7a-3bb71928754b",
   "metadata": {},
   "outputs": [],
   "source": [
    "from sklearn.metrics import accuracy_score"
   ]
  },
  {
   "cell_type": "code",
   "execution_count": 15,
   "id": "3db141dc-e560-443f-adbf-793fba10da9f",
   "metadata": {},
   "outputs": [
    {
     "data": {
      "text/plain": [
       "0.5"
      ]
     },
     "execution_count": 15,
     "metadata": {},
     "output_type": "execute_result"
    }
   ],
   "source": [
    "accuracy_score(y_pred, text[\"sentiment\"])"
   ]
  },
  {
   "cell_type": "code",
   "execution_count": null,
   "id": "bdf5c369-478f-416d-93f9-331361edf87c",
   "metadata": {},
   "outputs": [],
   "source": []
  }
 ],
 "metadata": {
  "kernelspec": {
   "display_name": "Python 3 (ipykernel)",
   "language": "python",
   "name": "python3"
  },
  "language_info": {
   "codemirror_mode": {
    "name": "ipython",
    "version": 3
   },
   "file_extension": ".py",
   "mimetype": "text/x-python",
   "name": "python",
   "nbconvert_exporter": "python",
   "pygments_lexer": "ipython3",
   "version": "3.10.13"
  }
 },
 "nbformat": 4,
 "nbformat_minor": 5
}
